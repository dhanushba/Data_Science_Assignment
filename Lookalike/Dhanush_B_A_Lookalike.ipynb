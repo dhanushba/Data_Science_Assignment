{
  "nbformat": 4,
  "nbformat_minor": 0,
  "metadata": {
    "colab": {
      "provenance": [],
      "authorship_tag": "ABX9TyMEhaKCkFMiEkU/jbWMISfF",
      "include_colab_link": true
    },
    "kernelspec": {
      "name": "python3",
      "display_name": "Python 3"
    },
    "language_info": {
      "name": "python"
    }
  },
  "cells": [
    {
      "cell_type": "markdown",
      "metadata": {
        "id": "view-in-github",
        "colab_type": "text"
      },
      "source": [
        "<a href=\"https://colab.research.google.com/github/dhanushba/Data_Science_Assignment/blob/main/Lookalike/Dhanush_B_A_Lookalike.ipynb\" target=\"_parent\"><img src=\"https://colab.research.google.com/assets/colab-badge.svg\" alt=\"Open In Colab\"/></a>"
      ]
    },
    {
      "cell_type": "code",
      "source": [
        "import pandas as pd\n",
        "import numpy as np\n",
        "from sklearn.metrics.pairwise import cosine_similarity\n",
        "from sklearn.preprocessing import StandardScaler"
      ],
      "metadata": {
        "id": "ffZqajMohCIj"
      },
      "execution_count": 15,
      "outputs": []
    },
    {
      "cell_type": "code",
      "source": [
        "# Step 1: Load datasets\n",
        "customers_df = pd.read_csv('Customers.csv')  # Customer dataset\n",
        "products_df = pd.read_csv('Products.csv')    # Product dataset\n",
        "transactions_df = pd.read_csv('Transactions.csv')  # Transactions dataset\n"
      ],
      "metadata": {
        "id": "IGEybNashFfa"
      },
      "execution_count": 16,
      "outputs": []
    },
    {
      "cell_type": "code",
      "source": [
        "# Step 2: Merge datasets to get relevant information in one dataframe\n",
        "merged_df = transactions_df.merge(products_df, on='ProductID', how='left')\n",
        "merged_df = merged_df.merge(customers_df, on='CustomerID', how='left')"
      ],
      "metadata": {
        "id": "8HbZ1yhehILn"
      },
      "execution_count": 17,
      "outputs": []
    },
    {
      "cell_type": "code",
      "source": [
        "# Step 3: Feature Engineering\n",
        "# Calculate total spent per customer, transaction count, etc.\n",
        "customer_features = merged_df.groupby('CustomerID').agg(\n",
        "    total_spent=pd.NamedAgg(column='TotalValue', aggfunc='sum'),\n",
        "    purchase_count=pd.NamedAgg(column='TransactionID', aggfunc='count'),\n",
        "    avg_purchase_value=pd.NamedAgg(column='TotalValue', aggfunc='mean')\n",
        ").reset_index()\n",
        "\n",
        "# Calculate spend per product category for each customer\n",
        "category_features = merged_df.groupby(['CustomerID', 'Category']).agg(\n",
        "    category_spend=pd.NamedAgg(column='TotalValue', aggfunc='sum')\n",
        ").reset_index()\n",
        "\n",
        "# Pivot category features to create a category spend matrix\n",
        "category_pivot = category_features.pivot_table(index='CustomerID', columns='Category', values='category_spend', fill_value=0)\n"
      ],
      "metadata": {
        "id": "wZLEzKjJhN8B"
      },
      "execution_count": 18,
      "outputs": []
    },
    {
      "cell_type": "code",
      "source": [
        "# Step 4: Combine customer features with category features\n",
        "full_features = pd.merge(customer_features, category_pivot, on='CustomerID', how='left')\n"
      ],
      "metadata": {
        "id": "ID5BkgmUhQMh"
      },
      "execution_count": 19,
      "outputs": []
    },
    {
      "cell_type": "code",
      "source": [
        "# Step 5: Normalize features using StandardScaler\n",
        "scaler = StandardScaler()\n",
        "scaled_features = scaler.fit_transform(full_features.drop('CustomerID', axis=1))\n"
      ],
      "metadata": {
        "id": "XSqrFr_ihS4i"
      },
      "execution_count": 20,
      "outputs": []
    },
    {
      "cell_type": "code",
      "source": [
        "# Step 6: Compute Cosine Similarity Matrix\n",
        "cosine_sim = cosine_similarity(scaled_features)\n"
      ],
      "metadata": {
        "id": "N9nrsvfRhWi0"
      },
      "execution_count": 21,
      "outputs": []
    },
    {
      "cell_type": "code",
      "source": [
        "# Step 7: Function to get top 3 similar customers for each customer\n",
        "def get_top_similar_customers(customer_id, top_n=3):\n",
        "    customer_index = full_features[full_features['CustomerID'] == customer_id].index[0]\n",
        "    similarity_scores = cosine_sim[customer_index]\n",
        "    similar_indices = similarity_scores.argsort()[-(top_n + 1):-1]  # Exclude the customer itself\n",
        "    similar_customers = full_features.iloc[similar_indices]\n",
        "\n",
        "    # Create a map of similar customers and their similarity scores\n",
        "    recommendations = [\n",
        "        (full_features.iloc[similar_indices[i]]['CustomerID'], similarity_scores[similar_indices[i]])\n",
        "        for i in range(top_n)\n",
        "    ]\n",
        "    return recommendations"
      ],
      "metadata": {
        "id": "aCk7DHk6had0"
      },
      "execution_count": 22,
      "outputs": []
    },
    {
      "cell_type": "code",
      "source": [
        "# Step 8: Prepare the Lookalike recommendations for the first 20 customers\n",
        "lookalike_map = {}\n",
        "for customer_id in customers_df['CustomerID'][:20]:\n",
        "    lookalike_map[customer_id] = get_top_similar_customers(customer_id)\n"
      ],
      "metadata": {
        "id": "M4tW8Ny4hglX"
      },
      "execution_count": 23,
      "outputs": []
    },
    {
      "cell_type": "code",
      "source": [
        "# Step 9: Save recommendations as a CSV file\n",
        "lookalike_list = []\n",
        "for customer_id, recommendations in lookalike_map.items():\n",
        "    for rec in recommendations:\n",
        "        lookalike_list.append([customer_id, rec[0], rec[1]])\n",
        "\n",
        "lookalike_df = pd.DataFrame(lookalike_list, columns=['CustomerID', 'RecommendedCustomerID', 'SimilarityScore'])\n",
        "\n",
        "# Display all rows in the dataframe for verification\n",
        "pd.set_option('display.max_rows', None)  # Show all rows\n",
        "print(lookalike_df.head(20))  # Preview the first 20 lookalike recommendations\n",
        "\n",
        "# Save the lookalike recommendations to CSV\n",
        "lookalike_df.to_csv('Dhanush_B_A_Lookalike.csv', index=False)\n",
        "\n",
        "# Optional: Reset the option to show default rows\n",
        "pd.reset_option('display.max_rows')"
      ],
      "metadata": {
        "colab": {
          "base_uri": "https://localhost:8080/"
        },
        "id": "m0xSKZ2Oh1PN",
        "outputId": "41dd3e9a-f626-431c-cc7f-1605c3d557b2"
      },
      "execution_count": 26,
      "outputs": [
        {
          "output_type": "stream",
          "name": "stdout",
          "text": [
            "   CustomerID RecommendedCustomerID  SimilarityScore\n",
            "0       C0001                 C0072         0.875402\n",
            "1       C0001                 C0091         0.924337\n",
            "2       C0001                 C0069         0.968236\n",
            "3       C0002                 C0134         0.863323\n",
            "4       C0002                 C0055         0.867274\n",
            "5       C0002                 C0036         0.878586\n",
            "6       C0003                 C0007         0.897475\n",
            "7       C0003                 C0005         0.900679\n",
            "8       C0003                 C0166         0.926960\n",
            "9       C0004                 C0090         0.913134\n",
            "10      C0004                 C0065         0.921354\n",
            "11      C0004                 C0075         0.980464\n",
            "12      C0005                 C0003         0.900679\n",
            "13      C0005                 C0166         0.922584\n",
            "14      C0005                 C0197         0.979024\n",
            "15      C0006                 C0200         0.871869\n",
            "16      C0006                 C0196         0.894301\n",
            "17      C0006                 C0185         0.920515\n",
            "18      C0007                 C0005         0.874595\n",
            "19      C0007                 C0003         0.897475\n"
          ]
        }
      ]
    }
  ]
}